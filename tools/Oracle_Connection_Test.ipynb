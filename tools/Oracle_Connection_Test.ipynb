{
 "cells": [
  {
   "cell_type": "markdown",
   "metadata": {},
   "source": [
    "### Import Library\n",
    "\n",
    "[cx_Oracle library](https://oracle.github.io/python-cx_Oracle/) was developed by Oracle to access Oracle Databases."
   ]
  },
  {
   "cell_type": "code",
   "execution_count": null,
   "metadata": {},
   "outputs": [],
   "source": [
    "import cx_Oracle"
   ]
  },
  {
   "cell_type": "markdown",
   "metadata": {},
   "source": [
    "### Manually Connect: Host, Port, and Service Name\n",
    "If you want to connect manually, then you need to know the **host**, **port**, and **service_name** of the database you want to connect to. You can retrieve this information from the TNSNAMES.ORA file, which is installed when Oracle is installed on your computer."
   ]
  },
  {
   "cell_type": "code",
   "execution_count": null,
   "metadata": {},
   "outputs": [],
   "source": [
    "user = 'barbieri_g'\n",
    "password = ''\n",
    "\n",
    "host = ''\n",
    "port = 1521\n",
    "service_name = ''"
   ]
  },
  {
   "cell_type": "markdown",
   "metadata": {},
   "source": [
    "Now we use the `makedsn` method to create the DSN--which is called an Oracle Net Connect Descriptor string."
   ]
  },
  {
   "cell_type": "code",
   "execution_count": null,
   "metadata": {},
   "outputs": [],
   "source": [
    "dsn = cx_Oracle.makedsn(host,port,service_name=service_name)\n",
    "print(dsn)"
   ]
  },
  {
   "cell_type": "markdown",
   "metadata": {},
   "source": [
    "Connect to the database and set the schema."
   ]
  },
  {
   "cell_type": "code",
   "execution_count": null,
   "metadata": {},
   "outputs": [],
   "source": [
    "conn = cx_Oracle.connect(user=user,password=password,dsn=dsn)\n",
    "conn.current_schema = ''\n",
    "\n",
    "print(conn)\n",
    "print(conn.dsn)"
   ]
  },
  {
   "cell_type": "markdown",
   "metadata": {},
   "source": [
    "### Pull Connection Descriptor Directly\n",
    "\n",
    "However the Oracle library's connect method `cx_Oracle.connect()`, can take the Net Service Name (database name) directly, since the connect function knows to check the TNSNAMES.ORA file first.\n",
    "\n",
    "Instead of creating the DSN manually and passing it as an argument to the `.connect()` method, I instead pass \"CPIORSIT\", and the function retrieves the correct inputs under the Net Service Name \"CPIORSIT\" in the TNSNAMES.ORA file. Of course, the TNSNAMES.ORA file needs to have a variable for the path as well as the proper environmental variables--this should have been set up for anyone who already has SAS functioning.\n",
    "\n",
    "**This is preferable code.**"
   ]
  },
  {
   "cell_type": "markdown",
   "metadata": {},
   "source": [
    "Enter user name, password, and the database name."
   ]
  },
  {
   "cell_type": "code",
   "execution_count": null,
   "metadata": {},
   "outputs": [],
   "source": [
    "user = ''\n",
    "password = ''\n",
    "database = ''"
   ]
  },
  {
   "cell_type": "markdown",
   "metadata": {},
   "source": [
    "Connect to the database."
   ]
  },
  {
   "cell_type": "code",
   "execution_count": null,
   "metadata": {},
   "outputs": [],
   "source": [
    "conn = cx_Oracle.connect(user=user, password=password, dsn=database)\n",
    "conn.current_schema = ''\n",
    "\n",
    "print(conn)\n",
    "print(conn.dsn)"
   ]
  }
 ],
 "metadata": {
  "hide_input": false,
  "kernelspec": {
   "display_name": "Python 3",
   "language": "python",
   "name": "python3"
  },
  "language_info": {
   "codemirror_mode": {
    "name": "ipython",
    "version": 3
   },
   "file_extension": ".py",
   "mimetype": "text/x-python",
   "name": "python",
   "nbconvert_exporter": "python",
   "pygments_lexer": "ipython3",
   "version": "3.7.3"
  }
 },
 "nbformat": 4,
 "nbformat_minor": 2
}
